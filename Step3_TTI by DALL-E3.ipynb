{
 "cells": [
  {
   "cell_type": "markdown",
   "id": "0bb685f9-37bb-4b08-935b-6958fb02bf24",
   "metadata": {},
   "source": [
    "# Step 3: TTI by DALL-E 3\n",
    "재구성된 text를 토대로, 이를 설명하는 고퀄리티의 image 생성\n",
    "* 사용 모델: DALL-E"
   ]
  },
  {
   "cell_type": "code",
   "execution_count": 6,
   "id": "df0c4f61-ed49-4f7a-86fc-fa3eccb67016",
   "metadata": {},
   "outputs": [
    {
     "data": {
      "text/plain": [
       "True"
      ]
     },
     "execution_count": 6,
     "metadata": {},
     "output_type": "execute_result"
    }
   ],
   "source": [
    "from dotenv import load_dotenv\n",
    "\n",
    "# 토큰 정보로드\n",
    "load_dotenv()"
   ]
  },
  {
   "cell_type": "markdown",
   "id": "7fb4d15e-786e-43ca-b1e3-feea3ca08d6c",
   "metadata": {},
   "source": [
    "## Client 생성"
   ]
  },
  {
   "cell_type": "code",
   "execution_count": 7,
   "id": "3e9d077f-9e0e-4173-a657-cec844ee1b6a",
   "metadata": {},
   "outputs": [
    {
     "name": "stdout",
     "output_type": "stream",
     "text": [
      "설치된 버전: 1.36.0\n"
     ]
    }
   ],
   "source": [
    "import openai\n",
    "\n",
    "print(f\"설치된 버전: {openai.__version__}\")"
   ]
  },
  {
   "cell_type": "code",
   "execution_count": 8,
   "id": "a88bcfb2-c785-489c-837c-ffa1e1861788",
   "metadata": {},
   "outputs": [],
   "source": [
    "import os\n",
    "\n",
    "openai_api_key = os.getenv(\"OPENAI_API_KEY\")"
   ]
  },
  {
   "cell_type": "code",
   "execution_count": 9,
   "id": "052fe1f5-1332-4a8e-852f-094a04bb369b",
   "metadata": {},
   "outputs": [],
   "source": [
    "from openai import OpenAI\n",
    "\n",
    "client = OpenAI(api_key = openai_api_key)"
   ]
  },
  {
   "cell_type": "markdown",
   "id": "8c7ceb77-273f-49a8-94d4-c556113b79a4",
   "metadata": {},
   "source": [
    "## 1. 이미지 생성(image.generate)\n",
    "* 이미지 크기: dall-e-3 = 1024x1024, 1792x1024, 1024x1792\n",
    "* DALL-E 3 사용 시, \"HD\"로 설정하면 디테일이 향상됨. 정사각형의 이미지가 가장 빠르게 생성됨.\n",
    "* 사진요청 개수: 한 번에 1개의 이미지를 요청할 수 있음; 대신 병렬 요청을 통해 더 많은 이미지를 요청할 수 있다.\n",
    "* prompt로 생성되는 이미지의 퀄리티가 많이 달라진다."
   ]
  },
  {
   "cell_type": "code",
   "execution_count": 5,
   "id": "5ff170c6-b3e9-4af6-9b22-ba95522a8051",
   "metadata": {},
   "outputs": [
    {
     "ename": "BadRequestError",
     "evalue": "Error code: 400 - {'error': {'code': 'content_policy_violation', 'message': 'Your request was rejected as a result of our safety system. Image descriptions generated from your prompt may contain text that is not allowed by our safety system. If you believe this was done in error, your request may succeed if retried, or by adjusting your prompt.', 'param': None, 'type': 'invalid_request_error'}}",
     "output_type": "error",
     "traceback": [
      "\u001b[1;31m---------------------------------------------------------------------------\u001b[0m",
      "\u001b[1;31mBadRequestError\u001b[0m                           Traceback (most recent call last)",
      "\u001b[1;32m<ipython-input-5-9ffa0682118b>\u001b[0m in \u001b[0;36m<module>\u001b[1;34m\u001b[0m\n\u001b[0;32m      4\u001b[0m \u001b[1;33m\u001b[0m\u001b[0m\n\u001b[0;32m      5\u001b[0m \u001b[1;31m# DALL-E 3 모델을 사용하여 이미지를 생성합니다.\u001b[0m\u001b[1;33m\u001b[0m\u001b[1;33m\u001b[0m\u001b[0m\n\u001b[1;32m----> 6\u001b[1;33m response = client.images.generate( #image generation\n\u001b[0m\u001b[0;32m      7\u001b[0m     \u001b[0mmodel\u001b[0m\u001b[1;33m=\u001b[0m\u001b[1;34m\"dall-e-3\"\u001b[0m\u001b[1;33m,\u001b[0m \u001b[1;31m#달리2 or 3 사용가능\u001b[0m\u001b[1;33m\u001b[0m\u001b[1;33m\u001b[0m\u001b[0m\n\u001b[0;32m      8\u001b[0m     \u001b[0mprompt\u001b[0m\u001b[1;33m=\u001b[0m\u001b[0mimage_prompt\u001b[0m\u001b[1;33m,\u001b[0m\u001b[1;33m\u001b[0m\u001b[1;33m\u001b[0m\u001b[0m\n",
      "\u001b[1;32m~\\anaconda3\\envs\\wiset\\Lib\\site-packages\\openai\\resources\\images.py\u001b[0m in \u001b[0;36mgenerate\u001b[1;34m(self, prompt, model, n, quality, response_format, size, style, user, extra_headers, extra_query, extra_body, timeout)\u001b[0m\n\u001b[0;32m    252\u001b[0m           \u001b[0mtimeout\u001b[0m\u001b[1;33m:\u001b[0m \u001b[0mOverride\u001b[0m \u001b[0mthe\u001b[0m \u001b[0mclient\u001b[0m\u001b[1;33m-\u001b[0m\u001b[0mlevel\u001b[0m \u001b[0mdefault\u001b[0m \u001b[0mtimeout\u001b[0m \u001b[1;32mfor\u001b[0m \u001b[0mthis\u001b[0m \u001b[0mrequest\u001b[0m\u001b[1;33m,\u001b[0m \u001b[1;32min\u001b[0m \u001b[0mseconds\u001b[0m\u001b[1;33m\u001b[0m\u001b[1;33m\u001b[0m\u001b[0m\n\u001b[0;32m    253\u001b[0m         \"\"\"\n\u001b[1;32m--> 254\u001b[1;33m         return self._post(\n\u001b[0m\u001b[0;32m    255\u001b[0m             \u001b[1;34m\"/images/generations\"\u001b[0m\u001b[1;33m,\u001b[0m\u001b[1;33m\u001b[0m\u001b[1;33m\u001b[0m\u001b[0m\n\u001b[0;32m    256\u001b[0m             body=maybe_transform(\n",
      "\u001b[1;32m~\\anaconda3\\envs\\wiset\\Lib\\site-packages\\openai\\_base_client.py\u001b[0m in \u001b[0;36mpost\u001b[1;34m(self, path, cast_to, body, options, files, stream, stream_cls)\u001b[0m\n\u001b[0;32m   1264\u001b[0m             \u001b[0mmethod\u001b[0m\u001b[1;33m=\u001b[0m\u001b[1;34m\"post\"\u001b[0m\u001b[1;33m,\u001b[0m \u001b[0murl\u001b[0m\u001b[1;33m=\u001b[0m\u001b[0mpath\u001b[0m\u001b[1;33m,\u001b[0m \u001b[0mjson_data\u001b[0m\u001b[1;33m=\u001b[0m\u001b[0mbody\u001b[0m\u001b[1;33m,\u001b[0m \u001b[0mfiles\u001b[0m\u001b[1;33m=\u001b[0m\u001b[0mto_httpx_files\u001b[0m\u001b[1;33m(\u001b[0m\u001b[0mfiles\u001b[0m\u001b[1;33m)\u001b[0m\u001b[1;33m,\u001b[0m \u001b[1;33m**\u001b[0m\u001b[0moptions\u001b[0m\u001b[1;33m\u001b[0m\u001b[1;33m\u001b[0m\u001b[0m\n\u001b[0;32m   1265\u001b[0m         )\n\u001b[1;32m-> 1266\u001b[1;33m         \u001b[1;32mreturn\u001b[0m \u001b[0mcast\u001b[0m\u001b[1;33m(\u001b[0m\u001b[0mResponseT\u001b[0m\u001b[1;33m,\u001b[0m \u001b[0mself\u001b[0m\u001b[1;33m.\u001b[0m\u001b[0mrequest\u001b[0m\u001b[1;33m(\u001b[0m\u001b[0mcast_to\u001b[0m\u001b[1;33m,\u001b[0m \u001b[0mopts\u001b[0m\u001b[1;33m,\u001b[0m \u001b[0mstream\u001b[0m\u001b[1;33m=\u001b[0m\u001b[0mstream\u001b[0m\u001b[1;33m,\u001b[0m \u001b[0mstream_cls\u001b[0m\u001b[1;33m=\u001b[0m\u001b[0mstream_cls\u001b[0m\u001b[1;33m)\u001b[0m\u001b[1;33m)\u001b[0m\u001b[1;33m\u001b[0m\u001b[1;33m\u001b[0m\u001b[0m\n\u001b[0m\u001b[0;32m   1267\u001b[0m \u001b[1;33m\u001b[0m\u001b[0m\n\u001b[0;32m   1268\u001b[0m     def patch(\n",
      "\u001b[1;32m~\\anaconda3\\envs\\wiset\\Lib\\site-packages\\openai\\_base_client.py\u001b[0m in \u001b[0;36mrequest\u001b[1;34m(self, cast_to, options, remaining_retries, stream, stream_cls)\u001b[0m\n\u001b[0;32m    940\u001b[0m         \u001b[0mstream_cls\u001b[0m\u001b[1;33m:\u001b[0m \u001b[0mtype\u001b[0m\u001b[1;33m[\u001b[0m\u001b[0m_StreamT\u001b[0m\u001b[1;33m]\u001b[0m \u001b[1;33m|\u001b[0m \u001b[1;32mNone\u001b[0m \u001b[1;33m=\u001b[0m \u001b[1;32mNone\u001b[0m\u001b[1;33m,\u001b[0m\u001b[1;33m\u001b[0m\u001b[1;33m\u001b[0m\u001b[0m\n\u001b[0;32m    941\u001b[0m     ) -> ResponseT | _StreamT:\n\u001b[1;32m--> 942\u001b[1;33m         return self._request(\n\u001b[0m\u001b[0;32m    943\u001b[0m             \u001b[0mcast_to\u001b[0m\u001b[1;33m=\u001b[0m\u001b[0mcast_to\u001b[0m\u001b[1;33m,\u001b[0m\u001b[1;33m\u001b[0m\u001b[1;33m\u001b[0m\u001b[0m\n\u001b[0;32m    944\u001b[0m             \u001b[0moptions\u001b[0m\u001b[1;33m=\u001b[0m\u001b[0moptions\u001b[0m\u001b[1;33m,\u001b[0m\u001b[1;33m\u001b[0m\u001b[1;33m\u001b[0m\u001b[0m\n",
      "\u001b[1;32m~\\anaconda3\\envs\\wiset\\Lib\\site-packages\\openai\\_base_client.py\u001b[0m in \u001b[0;36m_request\u001b[1;34m(self, cast_to, options, remaining_retries, stream, stream_cls)\u001b[0m\n\u001b[0;32m   1044\u001b[0m \u001b[1;33m\u001b[0m\u001b[0m\n\u001b[0;32m   1045\u001b[0m             \u001b[0mlog\u001b[0m\u001b[1;33m.\u001b[0m\u001b[0mdebug\u001b[0m\u001b[1;33m(\u001b[0m\u001b[1;34m\"Re-raising status error\"\u001b[0m\u001b[1;33m)\u001b[0m\u001b[1;33m\u001b[0m\u001b[1;33m\u001b[0m\u001b[0m\n\u001b[1;32m-> 1046\u001b[1;33m             \u001b[1;32mraise\u001b[0m \u001b[0mself\u001b[0m\u001b[1;33m.\u001b[0m\u001b[0m_make_status_error_from_response\u001b[0m\u001b[1;33m(\u001b[0m\u001b[0merr\u001b[0m\u001b[1;33m.\u001b[0m\u001b[0mresponse\u001b[0m\u001b[1;33m)\u001b[0m \u001b[1;32mfrom\u001b[0m \u001b[1;32mNone\u001b[0m\u001b[1;33m\u001b[0m\u001b[1;33m\u001b[0m\u001b[0m\n\u001b[0m\u001b[0;32m   1047\u001b[0m \u001b[1;33m\u001b[0m\u001b[0m\n\u001b[0;32m   1048\u001b[0m         return self._process_response(\n",
      "\u001b[1;31mBadRequestError\u001b[0m: Error code: 400 - {'error': {'code': 'content_policy_violation', 'message': 'Your request was rejected as a result of our safety system. Image descriptions generated from your prompt may contain text that is not allowed by our safety system. If you believe this was done in error, your request may succeed if retried, or by adjusting your prompt.', 'param': None, 'type': 'invalid_request_error'}}"
     ]
    }
   ],
   "source": [
    "# 텍스트 파일의 내용을 읽어 image_prompt로 설정합니다.\n",
    "with open('simplified_medical_report.txt', 'r', encoding='utf-8') as file:\n",
    "    image_prompt = file.read()\n",
    "\n",
    "# DALL-E 3 모델을 사용하여 이미지를 생성합니다.\n",
    "response = client.images.generate( #image generation\n",
    "    model=\"dall-e-3\", #달리2 or 3 사용가능\n",
    "    prompt=image_prompt,\n",
    "    size=\"1024x1024\",\n",
    "    quality=\"standard\",\n",
    "    n=1,\n",
    ")\n",
    "\n",
    "# 생성된 이미지의 URL을 저장합니다.\n",
    "image_url = response.data[0].url"
   ]
  },
  {
   "cell_type": "markdown",
   "id": "65261132-15b7-4622-b1d4-9ebe8fd416e0",
   "metadata": {},
   "source": [
    ">> 이 오류는 DALL-E의 콘텐츠 정책 위반으로 인해 발생한 것으로 보입니다. 오류 메시지에 따르면, 요청한 이미지 설명에 DALL-E의 안전 시스템에서 허용하지 않는 텍스트가 포함되어 있을 가능성이 있습니다.\n",
    "이 문제를 해결하기 위해 다음과 같은 방법을 시도해 볼 수 있습니다:\n",
    "프롬프트 수정:\n",
    "simplified_medical_report.txt 파일의 내용을 검토하고, 잠재적으로 문제가 될 수 있는 내용을 제거하거나 수정합니다. 특히 민감한 의료 정보, 개인 정보, 폭력적이거나 부적절한 내용 등이 있다면 제거해야 합니다.\n",
    "프롬프트 길이 확인:\n",
    "DALL-E에는 프롬프트 길이 제한이 있습니다. 파일의 내용이 너무 길다면, 핵심 내용만 추출하여 사용해 보세요.\n",
    "안전한 버전으로 재작성:\n",
    "의료 보고서의 내용을 직접 사용하는 대신, 그 내용을 바탕으로 안전하고 일반적인 설명으로 재작성해 보세요.\n",
    "에러 처리 추가:\n",
    "코드에 에러 처리를 추가하여 실패 시 대체 프롬프트를 사용하거나 사용자에게 알림을 줄 수 있습니다.\n",
    "예를 들어, 다음과 같이 코드를 수정할 수 있습니다:\n",
    "\n",
    "==> 의료 관련 내용이라, DALL-E 3에서 자체적으로 차단한 것으로 보입니다. "
   ]
  },
  {
   "cell_type": "code",
   "execution_count": 10,
   "id": "4e341f77-c6a0-433f-86f5-b3e616eb0b38",
   "metadata": {},
   "outputs": [
    {
     "name": "stdout",
     "output_type": "stream",
     "text": [
      "Error generating image: Error code: 400 - {'error': {'code': 'content_policy_violation', 'message': 'Your request was rejected as a result of our safety system. Image descriptions generated from your prompt may contain text that is not allowed by our safety system. If you believe this was done in error, your request may succeed if retried, or by adjusting your prompt.', 'param': None, 'type': 'invalid_request_error'}}\n"
     ]
    }
   ],
   "source": [
    "# 파일에서 프롬프트 읽기\n",
    "with open('simplified_medical_report.txt', 'r', encoding='utf-8') as file:\n",
    "    original_prompt = file.read()\n",
    "\n",
    "# 프롬프트 수정 (예: 길이 제한, 민감한 정보 제거)\n",
    "max_length = 1000  # DALL-E의 실제 제한에 맞게 조정하세요\n",
    "image_prompt = original_prompt[:max_length]  # 길이 제한\n",
    "image_prompt = \"Create a general medical illustration based on the following description, without including any specific patient information: \" + image_prompt\n",
    "\n",
    "try:\n",
    "    # DALL-E 3 모델을 사용하여 이미지를 생성합니다.\n",
    "    response = client.images.generate(\n",
    "        model=\"dall-e-3\",\n",
    "        prompt=image_prompt,\n",
    "        size=\"1024x1024\",\n",
    "        quality=\"standard\",\n",
    "        n=1,\n",
    "    )\n",
    "\n",
    "    # 생성된 이미지의 URL을 저장합니다.\n",
    "    image_url = response.data[0].url\n",
    "    print(f\"Image generated successfully. URL: {image_url}\")\n",
    "\n",
    "except openai.BadRequestError as e:\n",
    "    print(f\"Error generating image: {e}\")"
   ]
  },
  {
   "cell_type": "markdown",
   "id": "ccd92bc9-f781-4c3d-8edc-511ab51335db",
   "metadata": {},
   "source": [
    "다운로드 받을 수 있는 이미지의 URL을 출력합니다."
   ]
  },
  {
   "cell_type": "code",
   "execution_count": null,
   "id": "246176bf-5270-406c-a9ae-746f0ea5d26f",
   "metadata": {},
   "outputs": [],
   "source": [
    "# 생성된 이미지의 URL을 출력합니다.\n",
    "print(image_url)"
   ]
  },
  {
   "cell_type": "markdown",
   "id": "d64c99d6-3cd0-4bd2-beeb-e87ff8c9501b",
   "metadata": {},
   "source": [
    "Jupyter Notebook에서 출력하기 위하여 Image를 사용합니다."
   ]
  },
  {
   "cell_type": "code",
   "execution_count": null,
   "id": "dfdce201-0539-46db-a24c-8a6f49f66383",
   "metadata": {},
   "outputs": [],
   "source": [
    "from IPython.display import Image\n",
    "\n",
    "# 생성된 이미지를 출력합니다.\n",
    "Image(url=image_url, width=500)"
   ]
  },
  {
   "cell_type": "markdown",
   "id": "ae914d61-5fdd-4913-af7e-b8b4c4f8a6c4",
   "metadata": {},
   "source": [
    "urllib 라이브러리를 사용해 이미지를 다운로드합니다."
   ]
  },
  {
   "cell_type": "code",
   "execution_count": null,
   "id": "9c7b1a55-194b-4b18-8c81-6526e9dc2ed6",
   "metadata": {},
   "outputs": [],
   "source": [
    "import urllib\n",
    "\n",
    "# 생성된 이미지를 URL로부터 다운로드하여 저장합니다.\n",
    "urllib.request.urlretrieve(image_url, \"generated_medical_image.jpg\")"
   ]
  }
 ],
 "metadata": {
  "kernelspec": {
   "display_name": "Python 3 (ipykernel)",
   "language": "python",
   "name": "python3"
  },
  "language_info": {
   "codemirror_mode": {
    "name": "ipython",
    "version": 3
   },
   "file_extension": ".py",
   "mimetype": "text/x-python",
   "name": "python",
   "nbconvert_exporter": "python",
   "pygments_lexer": "ipython3",
   "version": "3.11.9"
  }
 },
 "nbformat": 4,
 "nbformat_minor": 5
}
